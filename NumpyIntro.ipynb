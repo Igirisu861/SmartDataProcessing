{
  "nbformat": 4,
  "nbformat_minor": 0,
  "metadata": {
    "colab": {
      "provenance": [],
      "authorship_tag": "ABX9TyN6XSH3G+VOvcY2q2wazXts",
      "include_colab_link": true
    },
    "kernelspec": {
      "name": "python3",
      "display_name": "Python 3"
    },
    "language_info": {
      "name": "python"
    }
  },
  "cells": [
    {
      "cell_type": "markdown",
      "metadata": {
        "id": "view-in-github",
        "colab_type": "text"
      },
      "source": [
        "<a href=\"https://colab.research.google.com/github/Igirisu861/SmartDataProcessing/blob/main/NumpyIntro.ipynb\" target=\"_parent\"><img src=\"https://colab.research.google.com/assets/colab-badge.svg\" alt=\"Open In Colab\"/></a>"
      ]
    },
    {
      "cell_type": "markdown",
      "source": [
        "# **Numpy Introduction**"
      ],
      "metadata": {
        "id": "iBsy31cDRmat"
      }
    },
    {
      "cell_type": "markdown",
      "source": [
        "# **Methods for array creation**\n",
        "\n",
        "### **Array method**"
      ],
      "metadata": {
        "id": "jYl36NDJGrPJ"
      }
    },
    {
      "cell_type": "code",
      "execution_count": 2,
      "metadata": {
        "colab": {
          "base_uri": "https://localhost:8080/"
        },
        "id": "TtGQoGrAQof_",
        "outputId": "1affbd1f-15d1-493e-d819-6ca2fc633926"
      },
      "outputs": [
        {
          "output_type": "execute_result",
          "data": {
            "text/plain": [
              "array([1, 2, 3])"
            ]
          },
          "metadata": {},
          "execution_count": 2
        }
      ],
      "source": [
        "import numpy as np\n",
        "\n",
        "myList = [1,2,3]\n",
        "#how to create an array from a list\n",
        "arr = np.array(myList)\n",
        "arr"
      ]
    },
    {
      "cell_type": "code",
      "source": [
        "mat = [[1,2,3],[4,5,6],[7,8,9]]\n",
        "np.array(mat)"
      ],
      "metadata": {
        "colab": {
          "base_uri": "https://localhost:8080/"
        },
        "id": "jcksq6vqSDpa",
        "outputId": "0b5ace40-6531-450e-e31a-50e8935d9774"
      },
      "execution_count": null,
      "outputs": [
        {
          "output_type": "execute_result",
          "data": {
            "text/plain": [
              "array([[1, 2, 3],\n",
              "       [4, 5, 6],\n",
              "       [7, 8, 9]])"
            ]
          },
          "metadata": {},
          "execution_count": 4
        }
      ]
    },
    {
      "cell_type": "markdown",
      "source": [
        "### **Arange method**"
      ],
      "metadata": {
        "id": "ezDhu7FoS27P"
      }
    },
    {
      "cell_type": "code",
      "source": [
        "#options for creating arrays\n",
        "#arange will generate an array starting from the first parameter to until before the 2nd parameter\n",
        "np.arange(0,11)"
      ],
      "metadata": {
        "colab": {
          "base_uri": "https://localhost:8080/"
        },
        "id": "Lm1BNAVbSIym",
        "outputId": "bf9ede81-f4cb-4ed5-be97-2ac7d2f69b20"
      },
      "execution_count": null,
      "outputs": [
        {
          "output_type": "execute_result",
          "data": {
            "text/plain": [
              "array([ 0,  1,  2,  3,  4,  5,  6,  7,  8,  9, 10])"
            ]
          },
          "metadata": {},
          "execution_count": 9
        }
      ]
    },
    {
      "cell_type": "code",
      "source": [
        "#It also works without 2nd parameter\n",
        "np.arange(11)"
      ],
      "metadata": {
        "colab": {
          "base_uri": "https://localhost:8080/"
        },
        "id": "5g9G42O4Sk57",
        "outputId": "1cd87dba-3a49-4a5d-d8d6-d671c0464727"
      },
      "execution_count": null,
      "outputs": [
        {
          "output_type": "execute_result",
          "data": {
            "text/plain": [
              "array([ 0,  1,  2,  3,  4,  5,  6,  7,  8,  9, 10])"
            ]
          },
          "metadata": {},
          "execution_count": 10
        }
      ]
    },
    {
      "cell_type": "code",
      "source": [
        "#or you can add a step\n",
        "np.arange(0,11,2)"
      ],
      "metadata": {
        "colab": {
          "base_uri": "https://localhost:8080/"
        },
        "id": "9q5Ed_o3Sv8k",
        "outputId": "f0dffb7f-b159-4777-934a-3b2ff486b47f"
      },
      "execution_count": null,
      "outputs": [
        {
          "output_type": "execute_result",
          "data": {
            "text/plain": [
              "array([ 0,  2,  4,  6,  8, 10])"
            ]
          },
          "metadata": {},
          "execution_count": 11
        }
      ]
    },
    {
      "cell_type": "markdown",
      "source": [
        "### **Zeros method**"
      ],
      "metadata": {
        "id": "30MD1v7pS70Z"
      }
    },
    {
      "cell_type": "code",
      "source": [
        "np.zeros(3)"
      ],
      "metadata": {
        "colab": {
          "base_uri": "https://localhost:8080/"
        },
        "id": "JeR05faOS-xi",
        "outputId": "ccf8587f-0ca0-4f8a-8f88-0c58de5f3eab"
      },
      "execution_count": null,
      "outputs": [
        {
          "output_type": "execute_result",
          "data": {
            "text/plain": [
              "array([0., 0., 0.])"
            ]
          },
          "metadata": {},
          "execution_count": 12
        }
      ]
    },
    {
      "cell_type": "code",
      "source": [
        "#create a 2 dimensional array\n",
        "#the inner parentheses are a tuple of 5 rows and 6 columns\n",
        "np.zeros((5,6))"
      ],
      "metadata": {
        "colab": {
          "base_uri": "https://localhost:8080/"
        },
        "id": "2pULqMPhTDtE",
        "outputId": "5b489934-ed29-4cd5-be8b-fc8e4af833ea"
      },
      "execution_count": null,
      "outputs": [
        {
          "output_type": "execute_result",
          "data": {
            "text/plain": [
              "array([[0., 0., 0., 0., 0., 0.],\n",
              "       [0., 0., 0., 0., 0., 0.],\n",
              "       [0., 0., 0., 0., 0., 0.],\n",
              "       [0., 0., 0., 0., 0., 0.],\n",
              "       [0., 0., 0., 0., 0., 0.]])"
            ]
          },
          "metadata": {},
          "execution_count": 14
        }
      ]
    },
    {
      "cell_type": "markdown",
      "source": [
        "### **Array of ones**\n",
        "\n",
        "This method creates an array filled with number 1s"
      ],
      "metadata": {
        "id": "jC2L1QUeTg8N"
      }
    },
    {
      "cell_type": "code",
      "source": [
        "np.ones(4)"
      ],
      "metadata": {
        "colab": {
          "base_uri": "https://localhost:8080/"
        },
        "id": "hasAiMEbTiXT",
        "outputId": "bf83c364-99db-45f3-f32b-a326f6f877cd"
      },
      "execution_count": null,
      "outputs": [
        {
          "output_type": "execute_result",
          "data": {
            "text/plain": [
              "array([1., 1., 1., 1.])"
            ]
          },
          "metadata": {},
          "execution_count": 15
        }
      ]
    },
    {
      "cell_type": "markdown",
      "source": [
        "### **Linspace method**\n",
        "\n",
        "This method creates an array within a range of numbers and is separated by the same distance between numbers. This is called *equidistance*."
      ],
      "metadata": {
        "id": "sJ4hfPJaUBnU"
      }
    },
    {
      "cell_type": "code",
      "source": [
        "np.linspace(0,10,20)"
      ],
      "metadata": {
        "colab": {
          "base_uri": "https://localhost:8080/"
        },
        "id": "Ftmf9oUUT6vT",
        "outputId": "80ee6804-69e1-47d6-bf0a-f672974898cf"
      },
      "execution_count": null,
      "outputs": [
        {
          "output_type": "execute_result",
          "data": {
            "text/plain": [
              "array([ 0.        ,  0.52631579,  1.05263158,  1.57894737,  2.10526316,\n",
              "        2.63157895,  3.15789474,  3.68421053,  4.21052632,  4.73684211,\n",
              "        5.26315789,  5.78947368,  6.31578947,  6.84210526,  7.36842105,\n",
              "        7.89473684,  8.42105263,  8.94736842,  9.47368421, 10.        ])"
            ]
          },
          "metadata": {},
          "execution_count": 16
        }
      ]
    },
    {
      "cell_type": "markdown",
      "source": [
        "### **Identity matrix**"
      ],
      "metadata": {
        "id": "2ajh5x0vUsXk"
      }
    },
    {
      "cell_type": "code",
      "source": [
        "np.eye(5)"
      ],
      "metadata": {
        "colab": {
          "base_uri": "https://localhost:8080/"
        },
        "id": "HfSZSjn3Uk1j",
        "outputId": "af7ef7fc-79c0-4994-ad83-2b059969678c"
      },
      "execution_count": 3,
      "outputs": [
        {
          "output_type": "execute_result",
          "data": {
            "text/plain": [
              "array([[1., 0., 0., 0., 0.],\n",
              "       [0., 1., 0., 0., 0.],\n",
              "       [0., 0., 1., 0., 0.],\n",
              "       [0., 0., 0., 1., 0.],\n",
              "       [0., 0., 0., 0., 1.]])"
            ]
          },
          "metadata": {},
          "execution_count": 3
        }
      ]
    },
    {
      "cell_type": "markdown",
      "source": [
        "# **Generate random numbers**\n",
        "\n",
        " ### **Random generation with uniform distribuition**\n",
        "\n",
        "It uses .rand"
      ],
      "metadata": {
        "id": "9CjlTINqUwHP"
      }
    },
    {
      "cell_type": "code",
      "source": [
        "np.random.rand(5)"
      ],
      "metadata": {
        "colab": {
          "base_uri": "https://localhost:8080/"
        },
        "id": "d4jnYhBQU_f4",
        "outputId": "dbeef3b3-8042-472b-ea11-a3683177731c"
      },
      "execution_count": null,
      "outputs": [
        {
          "output_type": "execute_result",
          "data": {
            "text/plain": [
              "array([0.15622038, 0.88143117, 0.90866851, 0.51846183, 0.73682632])"
            ]
          },
          "metadata": {},
          "execution_count": 18
        }
      ]
    },
    {
      "cell_type": "markdown",
      "source": [
        "### **Random with normal (or gaussian) distribuition**\n",
        "\n",
        "It uses randn"
      ],
      "metadata": {
        "id": "BU4L_ClkVdf1"
      }
    },
    {
      "cell_type": "code",
      "source": [
        "np.random.randn(4,5)"
      ],
      "metadata": {
        "colab": {
          "base_uri": "https://localhost:8080/"
        },
        "id": "nz2m8EU-VGwO",
        "outputId": "b6f30d64-08dd-45d5-995e-d0fa2a271b15"
      },
      "execution_count": null,
      "outputs": [
        {
          "output_type": "execute_result",
          "data": {
            "text/plain": [
              "array([[-0.78754639, -0.73908381,  0.73340834, -0.30965793,  0.80941864],\n",
              "       [-0.19150106,  0.45188732, -0.14360139, -0.35835217,  1.46409483],\n",
              "       [-1.25840858, -0.85834777, -0.05981215, -0.09217275, -0.91131805],\n",
              "       [-0.78467305, -0.40869505, -0.17284484,  0.88869596, -0.65419686]])"
            ]
          },
          "metadata": {},
          "execution_count": 19
        }
      ]
    },
    {
      "cell_type": "markdown",
      "source": [
        "### **Generate random integers**\n",
        "\n",
        "Here the last parameter is the size of the array and the first two parameters are the range."
      ],
      "metadata": {
        "id": "dehFxhzkVTzX"
      }
    },
    {
      "cell_type": "code",
      "source": [
        "np.random.randint(1,100,10)"
      ],
      "metadata": {
        "colab": {
          "base_uri": "https://localhost:8080/"
        },
        "id": "5M2TcFJXVQl3",
        "outputId": "1d88e795-88c0-4970-a721-8ddd1aa4b0db"
      },
      "execution_count": null,
      "outputs": [
        {
          "output_type": "execute_result",
          "data": {
            "text/plain": [
              "array([55, 22, 14, 85, 44, 57, 79, 27, 17, 92])"
            ]
          },
          "metadata": {},
          "execution_count": 20
        }
      ]
    },
    {
      "cell_type": "markdown",
      "source": [
        "# **Array manipulation methods**"
      ],
      "metadata": {
        "id": "gH6_91-8Vopi"
      }
    },
    {
      "cell_type": "code",
      "source": [
        "arr = np.arange(25)\n",
        "arr"
      ],
      "metadata": {
        "colab": {
          "base_uri": "https://localhost:8080/"
        },
        "id": "SgIsRv2aVuiw",
        "outputId": "04991294-1daf-44eb-defc-694e6c963084"
      },
      "execution_count": null,
      "outputs": [
        {
          "output_type": "execute_result",
          "data": {
            "text/plain": [
              "array([ 0,  1,  2,  3,  4,  5,  6,  7,  8,  9, 10, 11, 12, 13, 14, 15, 16,\n",
              "       17, 18, 19, 20, 21, 22, 23, 24])"
            ]
          },
          "metadata": {},
          "execution_count": 23
        }
      ]
    },
    {
      "cell_type": "markdown",
      "source": [
        "### **Reshape method**\n",
        "\n",
        "It shapes the array in a specific set of rows and columns (if possible)"
      ],
      "metadata": {
        "id": "PlN2t6UTG5Me"
      }
    },
    {
      "cell_type": "code",
      "source": [
        "arr.reshape(5,5)"
      ],
      "metadata": {
        "colab": {
          "base_uri": "https://localhost:8080/"
        },
        "id": "7Fte8FlJVz1n",
        "outputId": "8eb9f0fd-aab8-47af-de89-df695a42ae27"
      },
      "execution_count": null,
      "outputs": [
        {
          "output_type": "execute_result",
          "data": {
            "text/plain": [
              "array([[ 0,  1,  2,  3,  4],\n",
              "       [ 5,  6,  7,  8,  9],\n",
              "       [10, 11, 12, 13, 14],\n",
              "       [15, 16, 17, 18, 19],\n",
              "       [20, 21, 22, 23, 24]])"
            ]
          },
          "metadata": {},
          "execution_count": 22
        }
      ]
    },
    {
      "cell_type": "code",
      "source": [
        "#for making the reshape permanent, remember to reassign the variable\n",
        "\n",
        "arr2 = arr.reshape(5,5)\n",
        "arr2"
      ],
      "metadata": {
        "colab": {
          "base_uri": "https://localhost:8080/"
        },
        "id": "NRBqAJkCWEdq",
        "outputId": "13152dfe-df48-444b-b42e-d642d332c5c9"
      },
      "execution_count": null,
      "outputs": [
        {
          "output_type": "execute_result",
          "data": {
            "text/plain": [
              "array([[ 0,  1,  2,  3,  4],\n",
              "       [ 5,  6,  7,  8,  9],\n",
              "       [10, 11, 12, 13, 14],\n",
              "       [15, 16, 17, 18, 19],\n",
              "       [20, 21, 22, 23, 24]])"
            ]
          },
          "metadata": {},
          "execution_count": 24
        }
      ]
    },
    {
      "cell_type": "markdown",
      "source": [
        "### **Max function**\n",
        "\n",
        "it will give you the max number of the array"
      ],
      "metadata": {
        "id": "iR754fepWjaV"
      }
    },
    {
      "cell_type": "code",
      "source": [
        "randomArr = np.random.randint(0,50,10)\n",
        "randomArr"
      ],
      "metadata": {
        "colab": {
          "base_uri": "https://localhost:8080/"
        },
        "id": "wR9gg4W8Wcng",
        "outputId": "a083b564-f5e3-4fa6-a6f4-1c3962138c21"
      },
      "execution_count": null,
      "outputs": [
        {
          "output_type": "execute_result",
          "data": {
            "text/plain": [
              "array([19, 20, 39, 38, 18, 25,  6,  4, 29, 35])"
            ]
          },
          "metadata": {},
          "execution_count": 28
        }
      ]
    },
    {
      "cell_type": "code",
      "source": [
        "randomArr.max()"
      ],
      "metadata": {
        "colab": {
          "base_uri": "https://localhost:8080/"
        },
        "id": "WlBToSwEWwgj",
        "outputId": "3ef52f74-cb4a-4f07-8d4c-10494dabf809"
      },
      "execution_count": null,
      "outputs": [
        {
          "output_type": "execute_result",
          "data": {
            "text/plain": [
              "46"
            ]
          },
          "metadata": {},
          "execution_count": 27
        }
      ]
    },
    {
      "cell_type": "markdown",
      "source": [
        "### **Min function**\n",
        "\n",
        "returns the smallest number in the array"
      ],
      "metadata": {
        "id": "3DGsUY-YW5DB"
      }
    },
    {
      "cell_type": "code",
      "source": [
        "randomArr.min()"
      ],
      "metadata": {
        "id": "rWwHvZvOW-zn"
      },
      "execution_count": null,
      "outputs": []
    },
    {
      "cell_type": "markdown",
      "source": [
        "### **Argmax and argmin functions**\n",
        "These functions return the maximum or minimum numbers index in a determined axis"
      ],
      "metadata": {
        "id": "TSl1CEB5XGRb"
      }
    },
    {
      "cell_type": "code",
      "source": [
        "randomArr.argmax()"
      ],
      "metadata": {
        "colab": {
          "base_uri": "https://localhost:8080/"
        },
        "id": "4rlofFlDXIy7",
        "outputId": "124cd744-df75-4bae-e7b5-f28806b4931d"
      },
      "execution_count": null,
      "outputs": [
        {
          "output_type": "execute_result",
          "data": {
            "text/plain": [
              "2"
            ]
          },
          "metadata": {},
          "execution_count": 29
        }
      ]
    },
    {
      "cell_type": "code",
      "source": [
        "randomArr.argmin()"
      ],
      "metadata": {
        "colab": {
          "base_uri": "https://localhost:8080/"
        },
        "id": "GHZj38o2XMnV",
        "outputId": "22fa9617-ac71-448d-dd24-18c6e9762a49"
      },
      "execution_count": null,
      "outputs": [
        {
          "output_type": "execute_result",
          "data": {
            "text/plain": [
              "7"
            ]
          },
          "metadata": {},
          "execution_count": 30
        }
      ]
    },
    {
      "cell_type": "markdown",
      "source": [
        "### **Array indexing**"
      ],
      "metadata": {
        "id": "LWsIFQkLXO5c"
      }
    },
    {
      "cell_type": "code",
      "source": [
        "arr3 = np.random.randn(10)\n",
        "arr3"
      ],
      "metadata": {
        "colab": {
          "base_uri": "https://localhost:8080/"
        },
        "id": "GcnRKN1gXP7E",
        "outputId": "561c5773-293d-4a14-ae19-787c7a864bfb"
      },
      "execution_count": 4,
      "outputs": [
        {
          "output_type": "execute_result",
          "data": {
            "text/plain": [
              "array([-0.51842027,  0.60453781, -0.67454127, -0.54903418, -0.16126668,\n",
              "        0.21573577,  0.85993423, -0.59398931, -0.74948315,  1.11023996])"
            ]
          },
          "metadata": {},
          "execution_count": 4
        }
      ]
    },
    {
      "cell_type": "markdown",
      "source": [
        "This returns the number in the 8th position in the array"
      ],
      "metadata": {
        "id": "3Ehx5CyTXlFO"
      }
    },
    {
      "cell_type": "code",
      "source": [
        "arr3[8]"
      ],
      "metadata": {
        "colab": {
          "base_uri": "https://localhost:8080/"
        },
        "id": "f1U-p7t7XVmi",
        "outputId": "958a52ec-411e-48f5-ef91-7f2e5e528b4d"
      },
      "execution_count": null,
      "outputs": [
        {
          "output_type": "execute_result",
          "data": {
            "text/plain": [
              "-0.4331124710106967"
            ]
          },
          "metadata": {},
          "execution_count": 34
        }
      ]
    },
    {
      "cell_type": "markdown",
      "source": [
        "This returns from the 2nd position to the 5th"
      ],
      "metadata": {
        "id": "0iONUiP1Xohb"
      }
    },
    {
      "cell_type": "code",
      "source": [
        "arr3[2:6]"
      ],
      "metadata": {
        "colab": {
          "base_uri": "https://localhost:8080/"
        },
        "id": "jVg6UdanXgYq",
        "outputId": "b1bd0d83-a447-4016-ec18-b63224cb4a9c"
      },
      "execution_count": null,
      "outputs": [
        {
          "output_type": "execute_result",
          "data": {
            "text/plain": [
              "array([-0.26087263, -1.17165005,  0.87559636, -0.55822636])"
            ]
          },
          "metadata": {},
          "execution_count": 35
        }
      ]
    },
    {
      "cell_type": "markdown",
      "source": [
        "This returns from the beginning until before the 2nd parameter"
      ],
      "metadata": {
        "id": "6JwgmPD-Xre9"
      }
    },
    {
      "cell_type": "code",
      "source": [
        "arr3[:5]"
      ],
      "metadata": {
        "colab": {
          "base_uri": "https://localhost:8080/"
        },
        "id": "70oSBXgNX1eJ",
        "outputId": "75972ed6-58a8-482c-81de-354e9f6c999f"
      },
      "execution_count": null,
      "outputs": [
        {
          "output_type": "execute_result",
          "data": {
            "text/plain": [
              "array([-1.86898272,  0.48627151, -0.26087263, -1.17165005,  0.87559636])"
            ]
          },
          "metadata": {},
          "execution_count": 36
        }
      ]
    },
    {
      "cell_type": "markdown",
      "source": [
        "### **Broadcasting**\n",
        "\n",
        "Modify values in a set range"
      ],
      "metadata": {
        "id": "LMKgqcbyYm-f"
      }
    },
    {
      "cell_type": "code",
      "source": [
        "arr3[4:6]= 0.99\n",
        "arr3"
      ],
      "metadata": {
        "colab": {
          "base_uri": "https://localhost:8080/"
        },
        "id": "N7ffQO7PX7DK",
        "outputId": "00fffbaa-e1d4-4a2a-95ce-5638b9069ff4"
      },
      "execution_count": null,
      "outputs": [
        {
          "output_type": "execute_result",
          "data": {
            "text/plain": [
              "array([-1.86898272,  0.48627151, -0.26087263, -1.17165005,  0.99      ,\n",
              "        0.99      ,  0.25354576,  0.04655468, -0.43311247,  0.9953302 ])"
            ]
          },
          "metadata": {},
          "execution_count": 38
        }
      ]
    },
    {
      "cell_type": "markdown",
      "source": [
        "### **Slicing**\n",
        "\n",
        "Taking a piece of an array within a certain range"
      ],
      "metadata": {
        "id": "im2BqrogYQZe"
      }
    },
    {
      "cell_type": "code",
      "source": [
        "arr4 = np.random.rand(20)\n",
        "arr4"
      ],
      "metadata": {
        "colab": {
          "base_uri": "https://localhost:8080/"
        },
        "id": "eHWzqYzaYRVm",
        "outputId": "cff8e5db-722e-4ce8-fe82-875a2772cc57"
      },
      "execution_count": 6,
      "outputs": [
        {
          "output_type": "execute_result",
          "data": {
            "text/plain": [
              "array([4.83778463e-01, 1.12642341e-01, 3.59099910e-01, 2.91227500e-01,\n",
              "       3.23780552e-01, 8.29779765e-01, 3.22164776e-01, 8.34083140e-01,\n",
              "       2.47895298e-01, 3.69258325e-01, 1.12275971e-01, 6.35096027e-01,\n",
              "       3.83101761e-01, 4.20921008e-01, 7.22522893e-03, 7.78863274e-01,\n",
              "       1.73686434e-01, 7.08743610e-01, 8.91273430e-05, 8.03366654e-01])"
            ]
          },
          "metadata": {},
          "execution_count": 6
        }
      ]
    },
    {
      "cell_type": "code",
      "source": [
        "sliceOfArr4= arr4[0:5]\n",
        "sliceOfArr4"
      ],
      "metadata": {
        "colab": {
          "base_uri": "https://localhost:8080/"
        },
        "id": "qn0O2hhWYXx0",
        "outputId": "15c1acc8-422a-4f6b-fc44-c42ea3ca65ff"
      },
      "execution_count": 7,
      "outputs": [
        {
          "output_type": "execute_result",
          "data": {
            "text/plain": [
              "array([0.48377846, 0.11264234, 0.35909991, 0.2912275 , 0.32378055])"
            ]
          },
          "metadata": {},
          "execution_count": 7
        }
      ]
    },
    {
      "cell_type": "markdown",
      "source": [
        "### **Broadcast to the slice**"
      ],
      "metadata": {
        "id": "RiVcZdI7ZFhl"
      }
    },
    {
      "cell_type": "code",
      "source": [
        "sliceOfArr4[:] = 0.99\n",
        "sliceOfArr4"
      ],
      "metadata": {
        "colab": {
          "base_uri": "https://localhost:8080/"
        },
        "id": "5fWYHbnLYr-J",
        "outputId": "0db7a1ea-7c98-47d9-aa8b-17b465f7594c"
      },
      "execution_count": 8,
      "outputs": [
        {
          "output_type": "execute_result",
          "data": {
            "text/plain": [
              "array([0.99, 0.99, 0.99, 0.99, 0.99])"
            ]
          },
          "metadata": {},
          "execution_count": 8
        }
      ]
    },
    {
      "cell_type": "code",
      "source": [
        "arr4"
      ],
      "metadata": {
        "colab": {
          "base_uri": "https://localhost:8080/"
        },
        "id": "YonjhGjaY36t",
        "outputId": "c554b7fa-678c-486b-d67d-c3d9c8ed970a"
      },
      "execution_count": null,
      "outputs": [
        {
          "output_type": "execute_result",
          "data": {
            "text/plain": [
              "array([0.99      , 0.99      , 0.99      , 0.99      , 0.99      ,\n",
              "       0.45508806, 0.73986855, 0.23267028, 0.05713389, 0.18894023,\n",
              "       0.61357266, 0.50950467, 0.07933199, 0.55565342, 0.75725854,\n",
              "       0.8315215 , 0.56265955, 0.63321938, 0.84376856, 0.09792699])"
            ]
          },
          "metadata": {},
          "execution_count": 45
        }
      ]
    },
    {
      "cell_type": "markdown",
      "source": [
        "For saving memory, Python also modifies the original array when changing the slice from it. For avoiding this, the OG array should be copied."
      ],
      "metadata": {
        "id": "0MZbDJREY57A"
      }
    },
    {
      "cell_type": "markdown",
      "source": [
        "## **Two-Dimensional Arrays**"
      ],
      "metadata": {
        "id": "4fLbHHw3ZMF_"
      }
    },
    {
      "cell_type": "code",
      "source": [
        "arr2d = np.random.randint(0,11,(3,4))\n",
        "arr2d"
      ],
      "metadata": {
        "colab": {
          "base_uri": "https://localhost:8080/"
        },
        "id": "t3Ls9iGKZORl",
        "outputId": "8a97fba6-27b7-4630-ee48-fca86c9bc687"
      },
      "execution_count": 10,
      "outputs": [
        {
          "output_type": "execute_result",
          "data": {
            "text/plain": [
              "array([[10,  9,  9,  5],\n",
              "       [ 0,  4,  3,  4],\n",
              "       [ 6,  2,  9,  4]])"
            ]
          },
          "metadata": {},
          "execution_count": 10
        }
      ]
    },
    {
      "cell_type": "markdown",
      "source": [
        "### **Single bracket notation**"
      ],
      "metadata": {
        "id": "3SC6s6GEZ3bp"
      }
    },
    {
      "cell_type": "code",
      "source": [
        "arr2d[2,3]"
      ],
      "metadata": {
        "colab": {
          "base_uri": "https://localhost:8080/"
        },
        "id": "L0HG7b3LZxfv",
        "outputId": "d5f2f931-02a7-4b73-bffe-3c393eb5210a"
      },
      "execution_count": 11,
      "outputs": [
        {
          "output_type": "execute_result",
          "data": {
            "text/plain": [
              "4"
            ]
          },
          "metadata": {},
          "execution_count": 11
        }
      ]
    },
    {
      "cell_type": "markdown",
      "source": [
        "### **Double bracket notation**"
      ],
      "metadata": {
        "id": "41aeczgbZ6MV"
      }
    },
    {
      "cell_type": "code",
      "source": [
        "arr2d[2][2]"
      ],
      "metadata": {
        "colab": {
          "base_uri": "https://localhost:8080/"
        },
        "id": "YnrHkkEzZ7o5",
        "outputId": "0d5607fb-6fa1-4938-ea8a-51c173333a78"
      },
      "execution_count": null,
      "outputs": [
        {
          "output_type": "execute_result",
          "data": {
            "text/plain": [
              "7"
            ]
          },
          "metadata": {},
          "execution_count": 50
        }
      ]
    },
    {
      "cell_type": "markdown",
      "source": [
        "### **Slice notation**\n",
        "\n",
        "The first parameter extracts the rows in range and the 2nd one extracts the columns in range (in this case from 1 and on)"
      ],
      "metadata": {
        "id": "O7Bni06kaNkl"
      }
    },
    {
      "cell_type": "code",
      "source": [
        "arr2d[0:2,1:]"
      ],
      "metadata": {
        "colab": {
          "base_uri": "https://localhost:8080/"
        },
        "id": "Ih3LbWMfaCAE",
        "outputId": "07747525-73a9-42a8-aa2b-aea23efa91ef"
      },
      "execution_count": null,
      "outputs": [
        {
          "output_type": "execute_result",
          "data": {
            "text/plain": [
              "array([[1, 3, 1],\n",
              "       [6, 6, 1]])"
            ]
          },
          "metadata": {},
          "execution_count": 51
        }
      ]
    },
    {
      "cell_type": "markdown",
      "source": [
        "# **Practice time!**"
      ],
      "metadata": {
        "id": "ZNMIcfPJa4Kj"
      }
    },
    {
      "cell_type": "code",
      "source": [
        "import random\n",
        "np.random.seed(42)\n",
        "arr_2d = np.random.randint(0,100,12)\n",
        "arr_2d"
      ],
      "metadata": {
        "colab": {
          "base_uri": "https://localhost:8080/"
        },
        "id": "rSlqAU5ba5OP",
        "outputId": "264748fb-a1dc-4a6e-fd5e-ae69358fed11"
      },
      "execution_count": null,
      "outputs": [
        {
          "output_type": "execute_result",
          "data": {
            "text/plain": [
              "array([51, 92, 14, 71, 60, 20, 82, 86, 74, 74, 87, 99])"
            ]
          },
          "metadata": {},
          "execution_count": 53
        }
      ]
    },
    {
      "cell_type": "code",
      "source": [
        "arr_2d = arr_2d.reshape(4,3)\n",
        "arr_2d"
      ],
      "metadata": {
        "colab": {
          "base_uri": "https://localhost:8080/"
        },
        "id": "1HAGvAGbbhVH",
        "outputId": "45fa3c00-7975-459d-dbde-ab39b11c261f"
      },
      "execution_count": null,
      "outputs": [
        {
          "output_type": "execute_result",
          "data": {
            "text/plain": [
              "array([[51, 92, 14],\n",
              "       [71, 60, 20],\n",
              "       [82, 86, 74],\n",
              "       [74, 87, 99]])"
            ]
          },
          "metadata": {},
          "execution_count": 55
        }
      ]
    },
    {
      "cell_type": "markdown",
      "source": [
        "Extract 60, 20, 86, and 74 from the matrix using slice notation"
      ],
      "metadata": {
        "id": "tuVSV1qScGTQ"
      }
    },
    {
      "cell_type": "code",
      "source": [
        "arr2d_slice = arr_2d[1:3,1:]\n",
        "arr2d_slice"
      ],
      "metadata": {
        "colab": {
          "base_uri": "https://localhost:8080/"
        },
        "id": "x0GD3k7mb1Pl",
        "outputId": "31986d13-40af-448c-8792-b7233bebb7cd"
      },
      "execution_count": null,
      "outputs": [
        {
          "output_type": "execute_result",
          "data": {
            "text/plain": [
              "array([[60, 20],\n",
              "       [86, 74]])"
            ]
          },
          "metadata": {},
          "execution_count": 56
        }
      ]
    },
    {
      "cell_type": "markdown",
      "source": [
        "## **Conditional selection**"
      ],
      "metadata": {
        "id": "ch4aUVsTdiRz"
      }
    },
    {
      "cell_type": "code",
      "source": [
        "boolArr = arr_2d > 45\n",
        "boolArr"
      ],
      "metadata": {
        "colab": {
          "base_uri": "https://localhost:8080/"
        },
        "id": "aC6mTAXldkRD",
        "outputId": "a128ec4b-5bcf-4c2d-c36b-173f2ae6c614"
      },
      "execution_count": null,
      "outputs": [
        {
          "output_type": "execute_result",
          "data": {
            "text/plain": [
              "array([[ True,  True, False],\n",
              "       [ True,  True, False],\n",
              "       [ True,  True,  True],\n",
              "       [ True,  True,  True]])"
            ]
          },
          "metadata": {},
          "execution_count": 60
        }
      ]
    },
    {
      "cell_type": "code",
      "source": [
        "arr_2d[boolArr]"
      ],
      "metadata": {
        "colab": {
          "base_uri": "https://localhost:8080/"
        },
        "id": "BwyGZ6vod2BS",
        "outputId": "2b807be4-afd4-42e8-8778-9624d498dcc5"
      },
      "execution_count": null,
      "outputs": [
        {
          "output_type": "execute_result",
          "data": {
            "text/plain": [
              "array([51, 92, 71, 60, 82, 86, 74, 74, 87, 99])"
            ]
          },
          "metadata": {},
          "execution_count": 61
        }
      ]
    },
    {
      "cell_type": "code",
      "source": [
        "arr_2d[arr_2d<70]"
      ],
      "metadata": {
        "colab": {
          "base_uri": "https://localhost:8080/"
        },
        "id": "-U88opzkedje",
        "outputId": "b4560eac-d4bb-4dd9-faa8-cc207dfb1851"
      },
      "execution_count": null,
      "outputs": [
        {
          "output_type": "execute_result",
          "data": {
            "text/plain": [
              "array([51, 14, 60, 20])"
            ]
          },
          "metadata": {},
          "execution_count": 62
        }
      ]
    }
  ]
}